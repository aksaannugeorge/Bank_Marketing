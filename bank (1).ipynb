{
 "cells": [
  {
   "cell_type": "markdown",
   "id": "1dea32cb",
   "metadata": {},
   "source": [
    "# Data Preparation"
   ]
  },
  {
   "cell_type": "code",
   "execution_count": 1,
   "id": "59e5a248",
   "metadata": {},
   "outputs": [],
   "source": [
    "import matplotlib.pyplot as plt\n",
    "import pandas as pd\n",
    "import numpy as np\n",
    "import seaborn as sns\n",
    "\n",
    "from sklearn.preprocessing import LabelEncoder\n",
    "from sklearn.model_selection import train_test_split\n",
    "from sklearn import metrics\n",
    "\n",
    "from sklearn.datasets import make_classification\n",
    "from imblearn.over_sampling import RandomOverSampler\n",
    "from imblearn.under_sampling import RandomUnderSampler\n",
    "from collections import Counter\n",
    "\n",
    "from sklearn.preprocessing import LabelEncoder"
   ]
  },
  {
   "cell_type": "code",
   "execution_count": 55,
   "id": "77cce487",
   "metadata": {},
   "outputs": [],
   "source": [
    "df= pd.read_csv(\"bank-full.csv\")"
   ]
  },
  {
   "cell_type": "code",
   "execution_count": 56,
   "id": "d94fcf12",
   "metadata": {},
   "outputs": [
    {
     "data": {
      "text/html": [
       "<div>\n",
       "<style scoped>\n",
       "    .dataframe tbody tr th:only-of-type {\n",
       "        vertical-align: middle;\n",
       "    }\n",
       "\n",
       "    .dataframe tbody tr th {\n",
       "        vertical-align: top;\n",
       "    }\n",
       "\n",
       "    .dataframe thead th {\n",
       "        text-align: right;\n",
       "    }\n",
       "</style>\n",
       "<table border=\"1\" class=\"dataframe\">\n",
       "  <thead>\n",
       "    <tr style=\"text-align: right;\">\n",
       "      <th></th>\n",
       "      <th>age;\"job\";\"marital\";\"education\";\"default\";\"balance\";\"housing\";\"loan\";\"contact\";\"day\";\"month\";\"duration\";\"campaign\";\"pdays\";\"previous\";\"poutcome\";\"y\"</th>\n",
       "    </tr>\n",
       "  </thead>\n",
       "  <tbody>\n",
       "    <tr>\n",
       "      <th>0</th>\n",
       "      <td>58;\"management\";\"married\";\"tertiary\";\"no\";2143...</td>\n",
       "    </tr>\n",
       "    <tr>\n",
       "      <th>1</th>\n",
       "      <td>44;\"technician\";\"single\";\"secondary\";\"no\";29;\"...</td>\n",
       "    </tr>\n",
       "    <tr>\n",
       "      <th>2</th>\n",
       "      <td>33;\"entrepreneur\";\"married\";\"secondary\";\"no\";2...</td>\n",
       "    </tr>\n",
       "    <tr>\n",
       "      <th>3</th>\n",
       "      <td>47;\"blue-collar\";\"married\";\"unknown\";\"no\";1506...</td>\n",
       "    </tr>\n",
       "    <tr>\n",
       "      <th>4</th>\n",
       "      <td>33;\"unknown\";\"single\";\"unknown\";\"no\";1;\"no\";\"n...</td>\n",
       "    </tr>\n",
       "  </tbody>\n",
       "</table>\n",
       "</div>"
      ],
      "text/plain": [
       "  age;\"job\";\"marital\";\"education\";\"default\";\"balance\";\"housing\";\"loan\";\"contact\";\"day\";\"month\";\"duration\";\"campaign\";\"pdays\";\"previous\";\"poutcome\";\"y\"\n",
       "0  58;\"management\";\"married\";\"tertiary\";\"no\";2143...                                                                                                  \n",
       "1  44;\"technician\";\"single\";\"secondary\";\"no\";29;\"...                                                                                                  \n",
       "2  33;\"entrepreneur\";\"married\";\"secondary\";\"no\";2...                                                                                                  \n",
       "3  47;\"blue-collar\";\"married\";\"unknown\";\"no\";1506...                                                                                                  \n",
       "4  33;\"unknown\";\"single\";\"unknown\";\"no\";1;\"no\";\"n...                                                                                                  "
      ]
     },
     "execution_count": 56,
     "metadata": {},
     "output_type": "execute_result"
    }
   ],
   "source": [
    "df.head()"
   ]
  },
  {
   "cell_type": "code",
   "execution_count": 57,
   "id": "6c5b7e61",
   "metadata": {},
   "outputs": [
    {
     "data": {
      "text/html": [
       "<div>\n",
       "<style scoped>\n",
       "    .dataframe tbody tr th:only-of-type {\n",
       "        vertical-align: middle;\n",
       "    }\n",
       "\n",
       "    .dataframe tbody tr th {\n",
       "        vertical-align: top;\n",
       "    }\n",
       "\n",
       "    .dataframe thead th {\n",
       "        text-align: right;\n",
       "    }\n",
       "</style>\n",
       "<table border=\"1\" class=\"dataframe\">\n",
       "  <thead>\n",
       "    <tr style=\"text-align: right;\">\n",
       "      <th></th>\n",
       "      <th>age</th>\n",
       "      <th>job</th>\n",
       "      <th>marital</th>\n",
       "      <th>education</th>\n",
       "      <th>default</th>\n",
       "      <th>balance</th>\n",
       "      <th>housing</th>\n",
       "      <th>loan</th>\n",
       "      <th>contact</th>\n",
       "      <th>day</th>\n",
       "      <th>month</th>\n",
       "      <th>duration</th>\n",
       "      <th>campaign</th>\n",
       "      <th>pdays</th>\n",
       "      <th>previous</th>\n",
       "      <th>poutcome</th>\n",
       "      <th>y</th>\n",
       "    </tr>\n",
       "  </thead>\n",
       "  <tbody>\n",
       "    <tr>\n",
       "      <th>0</th>\n",
       "      <td>58</td>\n",
       "      <td>management</td>\n",
       "      <td>married</td>\n",
       "      <td>tertiary</td>\n",
       "      <td>no</td>\n",
       "      <td>2143</td>\n",
       "      <td>yes</td>\n",
       "      <td>no</td>\n",
       "      <td>unknown</td>\n",
       "      <td>5</td>\n",
       "      <td>may</td>\n",
       "      <td>261</td>\n",
       "      <td>1</td>\n",
       "      <td>-1</td>\n",
       "      <td>0</td>\n",
       "      <td>unknown</td>\n",
       "      <td>no</td>\n",
       "    </tr>\n",
       "    <tr>\n",
       "      <th>1</th>\n",
       "      <td>44</td>\n",
       "      <td>technician</td>\n",
       "      <td>single</td>\n",
       "      <td>secondary</td>\n",
       "      <td>no</td>\n",
       "      <td>29</td>\n",
       "      <td>yes</td>\n",
       "      <td>no</td>\n",
       "      <td>unknown</td>\n",
       "      <td>5</td>\n",
       "      <td>may</td>\n",
       "      <td>151</td>\n",
       "      <td>1</td>\n",
       "      <td>-1</td>\n",
       "      <td>0</td>\n",
       "      <td>unknown</td>\n",
       "      <td>no</td>\n",
       "    </tr>\n",
       "    <tr>\n",
       "      <th>2</th>\n",
       "      <td>33</td>\n",
       "      <td>entrepreneur</td>\n",
       "      <td>married</td>\n",
       "      <td>secondary</td>\n",
       "      <td>no</td>\n",
       "      <td>2</td>\n",
       "      <td>yes</td>\n",
       "      <td>yes</td>\n",
       "      <td>unknown</td>\n",
       "      <td>5</td>\n",
       "      <td>may</td>\n",
       "      <td>76</td>\n",
       "      <td>1</td>\n",
       "      <td>-1</td>\n",
       "      <td>0</td>\n",
       "      <td>unknown</td>\n",
       "      <td>no</td>\n",
       "    </tr>\n",
       "    <tr>\n",
       "      <th>3</th>\n",
       "      <td>47</td>\n",
       "      <td>blue-collar</td>\n",
       "      <td>married</td>\n",
       "      <td>unknown</td>\n",
       "      <td>no</td>\n",
       "      <td>1506</td>\n",
       "      <td>yes</td>\n",
       "      <td>no</td>\n",
       "      <td>unknown</td>\n",
       "      <td>5</td>\n",
       "      <td>may</td>\n",
       "      <td>92</td>\n",
       "      <td>1</td>\n",
       "      <td>-1</td>\n",
       "      <td>0</td>\n",
       "      <td>unknown</td>\n",
       "      <td>no</td>\n",
       "    </tr>\n",
       "    <tr>\n",
       "      <th>4</th>\n",
       "      <td>33</td>\n",
       "      <td>unknown</td>\n",
       "      <td>single</td>\n",
       "      <td>unknown</td>\n",
       "      <td>no</td>\n",
       "      <td>1</td>\n",
       "      <td>no</td>\n",
       "      <td>no</td>\n",
       "      <td>unknown</td>\n",
       "      <td>5</td>\n",
       "      <td>may</td>\n",
       "      <td>198</td>\n",
       "      <td>1</td>\n",
       "      <td>-1</td>\n",
       "      <td>0</td>\n",
       "      <td>unknown</td>\n",
       "      <td>no</td>\n",
       "    </tr>\n",
       "  </tbody>\n",
       "</table>\n",
       "</div>"
      ],
      "text/plain": [
       "   age           job  marital  education default  balance housing loan  \\\n",
       "0   58    management  married   tertiary      no     2143     yes   no   \n",
       "1   44    technician   single  secondary      no       29     yes   no   \n",
       "2   33  entrepreneur  married  secondary      no        2     yes  yes   \n",
       "3   47   blue-collar  married    unknown      no     1506     yes   no   \n",
       "4   33       unknown   single    unknown      no        1      no   no   \n",
       "\n",
       "   contact  day month  duration  campaign  pdays  previous poutcome   y  \n",
       "0  unknown    5   may       261         1     -1         0  unknown  no  \n",
       "1  unknown    5   may       151         1     -1         0  unknown  no  \n",
       "2  unknown    5   may        76         1     -1         0  unknown  no  \n",
       "3  unknown    5   may        92         1     -1         0  unknown  no  \n",
       "4  unknown    5   may       198         1     -1         0  unknown  no  "
      ]
     },
     "execution_count": 57,
     "metadata": {},
     "output_type": "execute_result"
    }
   ],
   "source": [
    "import csv\n",
    "\n",
    "file_path = 'bank-full.csv'  # Replace with the path to your CSV file\n",
    "\n",
    "# Load the CSV file into a DataFrame\n",
    "df = pd.read_csv(file_path, delimiter=';')\n",
    "\n",
    "# Print the DataFrame\n",
    "df.head()"
   ]
  },
  {
   "cell_type": "code",
   "execution_count": 58,
   "id": "b6571a95",
   "metadata": {},
   "outputs": [
    {
     "name": "stdout",
     "output_type": "stream",
     "text": [
      "45211\n",
      "age          0\n",
      "job          0\n",
      "marital      0\n",
      "education    0\n",
      "default      0\n",
      "balance      0\n",
      "housing      0\n",
      "loan         0\n",
      "contact      0\n",
      "day          0\n",
      "month        0\n",
      "duration     0\n",
      "campaign     0\n",
      "pdays        0\n",
      "previous     0\n",
      "poutcome     0\n",
      "y            0\n",
      "dtype: int64\n"
     ]
    }
   ],
   "source": [
    "print(len(df))\n",
    "print(df.isnull().sum())\n"
   ]
  },
  {
   "cell_type": "code",
   "execution_count": 59,
   "id": "ec0e366e",
   "metadata": {},
   "outputs": [
    {
     "name": "stdout",
     "output_type": "stream",
     "text": [
      "<class 'pandas.core.frame.DataFrame'>\n",
      "RangeIndex: 45211 entries, 0 to 45210\n",
      "Data columns (total 17 columns):\n",
      " #   Column     Non-Null Count  Dtype \n",
      "---  ------     --------------  ----- \n",
      " 0   age        45211 non-null  int64 \n",
      " 1   job        45211 non-null  object\n",
      " 2   marital    45211 non-null  object\n",
      " 3   education  45211 non-null  object\n",
      " 4   default    45211 non-null  object\n",
      " 5   balance    45211 non-null  int64 \n",
      " 6   housing    45211 non-null  object\n",
      " 7   loan       45211 non-null  object\n",
      " 8   contact    45211 non-null  object\n",
      " 9   day        45211 non-null  int64 \n",
      " 10  month      45211 non-null  object\n",
      " 11  duration   45211 non-null  int64 \n",
      " 12  campaign   45211 non-null  int64 \n",
      " 13  pdays      45211 non-null  int64 \n",
      " 14  previous   45211 non-null  int64 \n",
      " 15  poutcome   45211 non-null  object\n",
      " 16  y          45211 non-null  object\n",
      "dtypes: int64(7), object(10)\n",
      "memory usage: 5.9+ MB\n"
     ]
    }
   ],
   "source": [
    "df.info()"
   ]
  },
  {
   "cell_type": "code",
   "execution_count": 60,
   "id": "70a35cd0",
   "metadata": {},
   "outputs": [
    {
     "data": {
      "text/plain": [
       "blue-collar      9732\n",
       "management       9458\n",
       "technician       7597\n",
       "admin.           5171\n",
       "services         4154\n",
       "retired          2264\n",
       "self-employed    1579\n",
       "entrepreneur     1487\n",
       "unemployed       1303\n",
       "housemaid        1240\n",
       "student           938\n",
       "unknown           288\n",
       "Name: job, dtype: int64"
      ]
     },
     "execution_count": 60,
     "metadata": {},
     "output_type": "execute_result"
    }
   ],
   "source": [
    "df['job'].value_counts()"
   ]
  },
  {
   "cell_type": "code",
   "execution_count": 61,
   "id": "253de615",
   "metadata": {},
   "outputs": [
    {
     "data": {
      "text/plain": [
       "married     27214\n",
       "single      12790\n",
       "divorced     5207\n",
       "Name: marital, dtype: int64"
      ]
     },
     "execution_count": 61,
     "metadata": {},
     "output_type": "execute_result"
    }
   ],
   "source": [
    "df['marital'].value_counts()"
   ]
  },
  {
   "cell_type": "code",
   "execution_count": 62,
   "id": "23cf6027",
   "metadata": {},
   "outputs": [
    {
     "data": {
      "text/plain": [
       "secondary    23202\n",
       "tertiary     13301\n",
       "primary       6851\n",
       "unknown       1857\n",
       "Name: education, dtype: int64"
      ]
     },
     "execution_count": 62,
     "metadata": {},
     "output_type": "execute_result"
    }
   ],
   "source": [
    "df['education'].value_counts()"
   ]
  },
  {
   "cell_type": "code",
   "execution_count": 63,
   "id": "41ea20af",
   "metadata": {},
   "outputs": [
    {
     "data": {
      "text/plain": [
       "yes    25130\n",
       "no     20081\n",
       "Name: housing, dtype: int64"
      ]
     },
     "execution_count": 63,
     "metadata": {},
     "output_type": "execute_result"
    }
   ],
   "source": [
    "df['housing'].value_counts()"
   ]
  },
  {
   "cell_type": "code",
   "execution_count": 64,
   "id": "2b00691c",
   "metadata": {},
   "outputs": [
    {
     "data": {
      "text/plain": [
       "no     37967\n",
       "yes     7244\n",
       "Name: loan, dtype: int64"
      ]
     },
     "execution_count": 64,
     "metadata": {},
     "output_type": "execute_result"
    }
   ],
   "source": [
    "df['loan'].value_counts()"
   ]
  },
  {
   "cell_type": "code",
   "execution_count": 65,
   "id": "24237b7e",
   "metadata": {},
   "outputs": [
    {
     "data": {
      "text/plain": [
       "cellular     29285\n",
       "unknown      13020\n",
       "telephone     2906\n",
       "Name: contact, dtype: int64"
      ]
     },
     "execution_count": 65,
     "metadata": {},
     "output_type": "execute_result"
    }
   ],
   "source": [
    "df['contact'].value_counts()"
   ]
  },
  {
   "cell_type": "code",
   "execution_count": 66,
   "id": "1a65a1a0",
   "metadata": {},
   "outputs": [
    {
     "data": {
      "text/plain": [
       "may    13766\n",
       "jul     6895\n",
       "aug     6247\n",
       "jun     5341\n",
       "nov     3970\n",
       "apr     2932\n",
       "feb     2649\n",
       "jan     1403\n",
       "oct      738\n",
       "sep      579\n",
       "mar      477\n",
       "dec      214\n",
       "Name: month, dtype: int64"
      ]
     },
     "execution_count": 66,
     "metadata": {},
     "output_type": "execute_result"
    }
   ],
   "source": [
    "df['month'].value_counts()"
   ]
  },
  {
   "cell_type": "code",
   "execution_count": 67,
   "id": "49cf0192",
   "metadata": {},
   "outputs": [
    {
     "data": {
      "text/plain": [
       "unknown    36959\n",
       "failure     4901\n",
       "other       1840\n",
       "success     1511\n",
       "Name: poutcome, dtype: int64"
      ]
     },
     "execution_count": 67,
     "metadata": {},
     "output_type": "execute_result"
    }
   ],
   "source": [
    "df['poutcome'].value_counts()"
   ]
  },
  {
   "cell_type": "code",
   "execution_count": 68,
   "id": "67dabbf3",
   "metadata": {},
   "outputs": [
    {
     "data": {
      "text/plain": [
       "no     39922\n",
       "yes     5289\n",
       "Name: y, dtype: int64"
      ]
     },
     "execution_count": 68,
     "metadata": {},
     "output_type": "execute_result"
    }
   ],
   "source": [
    "df['y'].value_counts()"
   ]
  },
  {
   "cell_type": "markdown",
   "id": "2d32dfdf",
   "metadata": {},
   "source": [
    "# Categorical encoding"
   ]
  },
  {
   "cell_type": "code",
   "execution_count": 69,
   "id": "9ffb72af",
   "metadata": {},
   "outputs": [
    {
     "name": "stdout",
     "output_type": "stream",
     "text": [
      "Categorical Features in Train Set: 10\n",
      "['job' 'marital' 'education' 'default' 'housing' 'loan' 'contact' 'month'\n",
      " 'poutcome' 'y']\n",
      "\n",
      "Numerical Features in Train Set: 7\n",
      "['age' 'balance' 'day' 'duration' 'campaign' 'pdays' 'previous']\n"
     ]
    },
    {
     "name": "stderr",
     "output_type": "stream",
     "text": [
      "C:\\Users\\v1\\AppData\\Local\\Temp/ipykernel_22328/2461300768.py:2: DeprecationWarning: `np.object` is a deprecated alias for the builtin `object`. To silence this warning, use `object` by itself. Doing this will not modify any behavior and is safe. \n",
      "Deprecated in NumPy 1.20; for more details and guidance: https://numpy.org/devdocs/release/1.20.0-notes.html#deprecations\n",
      "  categorical = df.select_dtypes(include =[np.object])\n"
     ]
    }
   ],
   "source": [
    "#categorical features\n",
    "categorical = df.select_dtypes(include =[np.object])\n",
    "print(\"Categorical Features in Train Set:\",categorical.shape[1])\n",
    "print(categorical.columns.values)\n",
    "\n",
    "#numerical features\n",
    "numerical= df.select_dtypes(include =[np.float64,np.int64])\n",
    "print(\"\\nNumerical Features in Train Set:\",numerical.shape[1])\n",
    "print(numerical.columns.values)"
   ]
  },
  {
   "cell_type": "code",
   "execution_count": 70,
   "id": "b7661349",
   "metadata": {},
   "outputs": [],
   "source": [
    "le = LabelEncoder()\n",
    "\n",
    "var_mod = ['education','housing','loan','month','y']\n",
    "for i in var_mod:\n",
    "    df[i] = le.fit_transform(df[i])"
   ]
  },
  {
   "cell_type": "code",
   "execution_count": 71,
   "id": "3f33e3a6",
   "metadata": {},
   "outputs": [
    {
     "data": {
      "text/html": [
       "<div>\n",
       "<style scoped>\n",
       "    .dataframe tbody tr th:only-of-type {\n",
       "        vertical-align: middle;\n",
       "    }\n",
       "\n",
       "    .dataframe tbody tr th {\n",
       "        vertical-align: top;\n",
       "    }\n",
       "\n",
       "    .dataframe thead th {\n",
       "        text-align: right;\n",
       "    }\n",
       "</style>\n",
       "<table border=\"1\" class=\"dataframe\">\n",
       "  <thead>\n",
       "    <tr style=\"text-align: right;\">\n",
       "      <th></th>\n",
       "      <th>age</th>\n",
       "      <th>education</th>\n",
       "      <th>balance</th>\n",
       "      <th>housing</th>\n",
       "      <th>loan</th>\n",
       "      <th>day</th>\n",
       "      <th>month</th>\n",
       "      <th>duration</th>\n",
       "      <th>campaign</th>\n",
       "      <th>pdays</th>\n",
       "      <th>...</th>\n",
       "      <th>job_unemployed</th>\n",
       "      <th>job_unknown</th>\n",
       "      <th>marital_married</th>\n",
       "      <th>marital_single</th>\n",
       "      <th>default_yes</th>\n",
       "      <th>contact_telephone</th>\n",
       "      <th>contact_unknown</th>\n",
       "      <th>poutcome_other</th>\n",
       "      <th>poutcome_success</th>\n",
       "      <th>poutcome_unknown</th>\n",
       "    </tr>\n",
       "  </thead>\n",
       "  <tbody>\n",
       "    <tr>\n",
       "      <th>0</th>\n",
       "      <td>58</td>\n",
       "      <td>2</td>\n",
       "      <td>2143</td>\n",
       "      <td>1</td>\n",
       "      <td>0</td>\n",
       "      <td>5</td>\n",
       "      <td>8</td>\n",
       "      <td>261</td>\n",
       "      <td>1</td>\n",
       "      <td>-1</td>\n",
       "      <td>...</td>\n",
       "      <td>0</td>\n",
       "      <td>0</td>\n",
       "      <td>1</td>\n",
       "      <td>0</td>\n",
       "      <td>0</td>\n",
       "      <td>0</td>\n",
       "      <td>1</td>\n",
       "      <td>0</td>\n",
       "      <td>0</td>\n",
       "      <td>1</td>\n",
       "    </tr>\n",
       "    <tr>\n",
       "      <th>1</th>\n",
       "      <td>44</td>\n",
       "      <td>1</td>\n",
       "      <td>29</td>\n",
       "      <td>1</td>\n",
       "      <td>0</td>\n",
       "      <td>5</td>\n",
       "      <td>8</td>\n",
       "      <td>151</td>\n",
       "      <td>1</td>\n",
       "      <td>-1</td>\n",
       "      <td>...</td>\n",
       "      <td>0</td>\n",
       "      <td>0</td>\n",
       "      <td>0</td>\n",
       "      <td>1</td>\n",
       "      <td>0</td>\n",
       "      <td>0</td>\n",
       "      <td>1</td>\n",
       "      <td>0</td>\n",
       "      <td>0</td>\n",
       "      <td>1</td>\n",
       "    </tr>\n",
       "  </tbody>\n",
       "</table>\n",
       "<p>2 rows × 31 columns</p>\n",
       "</div>"
      ],
      "text/plain": [
       "   age  education  balance  housing  loan  day  month  duration  campaign  \\\n",
       "0   58          2     2143        1     0    5      8       261         1   \n",
       "1   44          1       29        1     0    5      8       151         1   \n",
       "\n",
       "   pdays  ...  job_unemployed  job_unknown  marital_married  marital_single  \\\n",
       "0     -1  ...               0            0                1               0   \n",
       "1     -1  ...               0            0                0               1   \n",
       "\n",
       "   default_yes  contact_telephone  contact_unknown  poutcome_other  \\\n",
       "0            0                  0                1               0   \n",
       "1            0                  0                1               0   \n",
       "\n",
       "   poutcome_success  poutcome_unknown  \n",
       "0                 0                 1  \n",
       "1                 0                 1  \n",
       "\n",
       "[2 rows x 31 columns]"
      ]
     },
     "execution_count": 71,
     "metadata": {},
     "output_type": "execute_result"
    }
   ],
   "source": [
    "df = pd.get_dummies(df, columns=['job','marital','default','contact','poutcome' ],drop_first= True)\n",
    "\n",
    "df.head(2)"
   ]
  },
  {
   "cell_type": "markdown",
   "id": "80b37ad0",
   "metadata": {},
   "source": [
    "# Outliers"
   ]
  },
  {
   "cell_type": "code",
   "execution_count": 72,
   "id": "2157981c",
   "metadata": {},
   "outputs": [
    {
     "data": {
      "image/png": "[encoded data removed]",
      "text/plain": [
       "<Figure size 360x360 with 1 Axes>"
      ]
     },
     "metadata": {
      "needs_background": "light"
     },
     "output_type": "display_data"
    },
    {
     "data": {
      "image/png": "[encoded data removed]",
      "text/plain": [
       "<Figure size 360x360 with 1 Axes>"
      ]
     },
     "metadata": {
      "needs_background": "light"
     },
     "output_type": "display_data"
    },
    {
     "data": {
      "image/png": "[encoded data removed]",
      "text/plain": [
       "<Figure size 360x360 with 1 Axes>"
      ]
     },
     "metadata": {
      "needs_background": "light"
     },
     "output_type": "display_data"
    },
    {
     "data": {
      "image/png": "[encoded data removed]",
      "text/plain": [
       "<Figure size 360x360 with 1 Axes>"
      ]
     },
     "metadata": {
      "needs_background": "light"
     },
     "output_type": "display_data"
    },
    {
     "data": {
      "image/png": "[encoded data removed]",
      "text/plain": [
       "<Figure size 360x360 with 1 Axes>"
      ]
     },
     "metadata": {
      "needs_background": "light"
     },
     "output_type": "display_data"
    },
    {
     "data": {
      "image/png": "[encoded data removed]",
      "text/plain": [
       "<Figure size 360x360 with 1 Axes>"
      ]
     },
     "metadata": {
      "needs_background": "light"
     },
     "output_type": "display_data"
    },
    {
     "data": {
      "image/png": "[encoded data removed]",
      "text/plain": [
       "<Figure size 360x360 with 1 Axes>"
      ]
     },
     "metadata": {
      "needs_background": "light"
     },
     "output_type": "display_data"
    }
   ],
   "source": [
    "num =['age','balance','day','duration','campaign','pdays','previous']\n",
    "for i in num:\n",
    "    #print(\"Column\",i)\n",
    "    plt.boxplot(df[i])\n",
    "    plt.show()"
   ]
  },
  {
   "cell_type": "code",
   "execution_count": 73,
   "id": "83b8fe0d",
   "metadata": {},
   "outputs": [
    {
     "name": "stdout",
     "output_type": "stream",
     "text": [
      "(45211, 30)\n",
      "(45211,)\n"
     ]
    }
   ],
   "source": [
    "X= df.drop(columns = ['y'], axis=1)\n",
    "y= df['y']\n",
    "print(X.shape)\n",
    "print(y.shape)"
   ]
  },
  {
   "cell_type": "markdown",
   "id": "7019cf5c",
   "metadata": {},
   "source": [
    "# Standarisation"
   ]
  },
  {
   "cell_type": "code",
   "execution_count": 74,
   "id": "80971350",
   "metadata": {},
   "outputs": [],
   "source": [
    "from sklearn.preprocessing import StandardScaler\n",
    "sc = StandardScaler()\n",
    "X = sc.fit_transform(X)"
   ]
  },
  {
   "cell_type": "markdown",
   "id": "7bcf0f72",
   "metadata": {},
   "source": [
    " # PCA"
   ]
  },
  {
   "cell_type": "code",
   "execution_count": 75,
   "id": "a80410da",
   "metadata": {},
   "outputs": [
    {
     "data": {
      "text/plain": [
       "Text(0, 0.5, 'cumulative explained variance')"
      ]
     },
     "execution_count": 75,
     "metadata": {},
     "output_type": "execute_result"
    },
    {
     "data": {
      "image/png": "[encoded data removed]",
      "text/plain": [
       "<Figure size 360x360 with 1 Axes>"
      ]
     },
     "metadata": {
      "needs_background": "light"
     },
     "output_type": "display_data"
    }
   ],
   "source": [
    "from sklearn.decomposition import PCA\n",
    "\n",
    "pca = PCA().fit(X)\n",
    "plt.plot(np.cumsum(pca.explained_variance_ratio_))\n",
    "plt.xlabel('number of components')\n",
    "plt.ylabel('cumulative explained variance')"
   ]
  },
  {
   "cell_type": "code",
   "execution_count": 78,
   "id": "5167f0ed",
   "metadata": {},
   "outputs": [
    {
     "data": {
      "image/png": "[encoded data removed]",
      "text/plain": [
       "<Figure size 1440x720 with 1 Axes>"
      ]
     },
     "metadata": {
      "needs_background": "light"
     },
     "output_type": "display_data"
    }
   ],
   "source": [
    "plt.rcParams[\"figure.figsize\"] = (20,10)\n",
    "\n",
    "fig, ax = plt.subplots()\n",
    "xi = np.arange(1, 31, step=1)\n",
    "yi = np.cumsum(pca.explained_variance_ratio_)\n",
    "\n",
    "plt.ylim(0.0,1.1)\n",
    "plt.plot(xi, yi, marker='o', linestyle='--', color='black')\n",
    "\n",
    "plt.xlabel('Number of Components')\n",
    "plt.xticks(np.arange(0, 32, step=2)) \n",
    "plt.ylabel('Cumulative variance (%)')\n",
    "plt.title('The number of components needed to explain variance')\n",
    "\n",
    "\n",
    "plt.axhline(y=0.90, color='r', linestyle='-')\n",
    "plt.text(0.5, 0.85, '90% cut-off threshold', color = 'red', fontsize=16)\n",
    "\n",
    "ax.grid(axis='x')\n",
    "plt.show()\n"
   ]
  },
  {
   "cell_type": "code",
   "execution_count": 79,
   "id": "f618478b",
   "metadata": {},
   "outputs": [],
   "source": [
    "#90%\n",
    "\n",
    "pca = PCA(n_components=22)\n",
    "X = pca.fit_transform(X)"
   ]
  },
  {
   "cell_type": "markdown",
   "id": "7188c4db",
   "metadata": {},
   "source": [
    "# CLASS IMBALANCE "
   ]
  },
  {
   "cell_type": "code",
   "execution_count": 81,
   "id": "dd124ee4",
   "metadata": {},
   "outputs": [
    {
     "data": {
      "text/plain": [
       "<seaborn.axisgrid.FacetGrid at 0x21c236fe730>"
      ]
     },
     "execution_count": 81,
     "metadata": {},
     "output_type": "execute_result"
    },
    {
     "data": {
      "image/png": "[encoded data removed]",
      "text/plain": [
       "<Figure size 360x360 with 1 Axes>"
      ]
     },
     "metadata": {
      "needs_background": "light"
     },
     "output_type": "display_data"
    }
   ],
   "source": [
    "sns.catplot(x='y',kind = 'count',data= df, palette=\"cubehelix\")"
   ]
  },
  {
   "cell_type": "code",
   "execution_count": 82,
   "id": "02d83905",
   "metadata": {},
   "outputs": [
    {
     "name": "stdout",
     "output_type": "stream",
     "text": [
      "(5289, 31) (39922, 31)\n"
     ]
    }
   ],
   "source": [
    "response_yes = df[df['y']==1]\n",
    "response_no = df[df['y']==0]\n",
    "\n",
    "print(response_yes.shape,response_no.shape)"
   ]
  },
  {
   "cell_type": "code",
   "execution_count": 83,
   "id": "9a450dbf",
   "metadata": {},
   "outputs": [
    {
     "name": "stdout",
     "output_type": "stream",
     "text": [
      "Counter({0: 39922, 1: 39922})\n"
     ]
    }
   ],
   "source": [
    "### OVERSAMPLING\n",
    "\n",
    "# instantiating the random over sampler \n",
    "ros = RandomOverSampler()\n",
    "# resampling X, y\n",
    "X_ros, y_ros = ros.fit_resample(X, y)\n",
    "# new class distribution \n",
    "print(Counter(y_ros))"
   ]
  },
  {
   "cell_type": "code",
   "execution_count": 84,
   "id": "ea128343",
   "metadata": {},
   "outputs": [
    {
     "name": "stdout",
     "output_type": "stream",
     "text": [
      "Counter({0: 5289, 1: 5289})\n"
     ]
    }
   ],
   "source": [
    "## UNDERSAMPLING\n",
    "\n",
    "# instantiating the random undersampler\n",
    "rus = RandomUnderSampler() \n",
    "# resampling X, y\n",
    "X_rus, y_rus = rus.fit_resample(X, y)\n",
    "# new class distribution\n",
    "print(Counter(y_rus))"
   ]
  },
  {
   "cell_type": "code",
   "execution_count": 85,
   "id": "52bbd33e",
   "metadata": {},
   "outputs": [
    {
     "name": "stdout",
     "output_type": "stream",
     "text": [
      "Oversampled: Counter({0: 39922, 1: 31937})\n",
      "Combined Random Sampling: Counter({0: 35485, 1: 31937})\n"
     ]
    }
   ],
   "source": [
    "### Combined OVER AND UNDERSAMPLING\n",
    "\n",
    "# instantiating over and under sampler\n",
    "over = RandomOverSampler(sampling_strategy=0.8)\n",
    "under = RandomUnderSampler(sampling_strategy=0.9)\n",
    "\n",
    "\n",
    "# first performing oversampling to minority class\n",
    "X_over, y_over = over.fit_resample(X, y)\n",
    "print(f\"Oversampled: {Counter(y_over)}\")\n",
    "\n",
    "\n",
    "# now to comine under sampling \n",
    "X_combined_sampling, y_combined_sampling = under.fit_resample(X_over, y_over)\n",
    "print(f\"Combined Random Sampling: {Counter(y_combined_sampling)}\")"
   ]
  },
  {
   "cell_type": "code",
   "execution_count": 86,
   "id": "1531a9ec",
   "metadata": {},
   "outputs": [
    {
     "name": "stdout",
     "output_type": "stream",
     "text": [
      "SMOTE Sampling: Counter({0: 39922, 1: 39922})\n"
     ]
    }
   ],
   "source": [
    "## SMOTE\n",
    "\n",
    "from imblearn.over_sampling import SMOTE\n",
    "\n",
    "sm = SMOTE(random_state = 42)\n",
    "\n",
    "X_sm, y_sm = sm.fit_resample(X,y)\n",
    "print(f\"SMOTE Sampling: {Counter(y_sm)}\")"
   ]
  },
  {
   "cell_type": "code",
   "execution_count": 87,
   "id": "7f4ab5d4",
   "metadata": {},
   "outputs": [
    {
     "name": "stdout",
     "output_type": "stream",
     "text": [
      "SMOTETomek Sampling: Counter({0: 39780, 1: 39780})\n"
     ]
    }
   ],
   "source": [
    "## SMOTETomelek\n",
    "\n",
    "from imblearn.combine import SMOTETomek\n",
    "from imblearn.under_sampling import NearMiss\n",
    "# pip install scikit-learn==0.23.1\n",
    "# Implementing Oversampling for Handling Imbalanced \n",
    "smk = SMOTETomek(random_state=42)\n",
    "X_smk,y_smk=smk.fit_resample(X,y)\n",
    "print(f\"SMOTETomek Sampling: {Counter(y_smk)}\")"
   ]
  },
  {
   "cell_type": "markdown",
   "id": "813ffe67",
   "metadata": {},
   "source": [
    "# ML MODELLING"
   ]
  },
  {
   "cell_type": "code",
   "execution_count": 88,
   "id": "54c1cd7c",
   "metadata": {},
   "outputs": [],
   "source": [
    "from sklearn.metrics import accuracy_score,classification_report,confusion_matrix,ConfusionMatrixDisplay\n",
    "from sklearn.metrics import plot_confusion_matrix\n",
    "from sklearn.metrics import auc,roc_auc_score,roc_curve\n",
    "import time\n",
    "\n",
    "\n",
    "plt.rcParams[\"figure.figsize\"] = (5,5)\n",
    "def result(model):\n",
    "\n",
    "    X_train, X_test, y_train, y_test = train_test_split(X_ros, y_ros, test_size=0.33, random_state=42)\n",
    "    start = time.time()\n",
    "    model.fit(X_train, y_train)\n",
    "    pred = model.predict(X_test)\n",
    "    end = time.time()\n",
    "    print(\"\\n Oversampled Data\\n\",accuracy_score(y_test,pred))\n",
    "    print(classification_report(y_test,pred))\n",
    "    print(confusion_matrix(y_test,pred))\n",
    "    cm = confusion_matrix(y_test, pred, labels=model.classes_)\n",
    "    disp = ConfusionMatrixDisplay(confusion_matrix=cm,display_labels=model.classes_)\n",
    "    disp.plot()\n",
    "    plt.show()\n",
    "    probs = model.predict_proba(X_test)\n",
    "    preds = probs[:,1]\n",
    "    fpr,tpr,threshold = metrics.roc_curve(y_test,preds)\n",
    "    roc_auc = metrics.auc(fpr,tpr)\n",
    "    print('ROC AUC=%.3f' % (roc_auc))\n",
    "    print(\"\\nTime Taken :\"+ str(end - start) +\" seconds\")\n",
    "    \n",
    "    X_train, X_test, y_train, y_test = train_test_split(X_rus, y_rus, test_size=0.33, random_state=42)\n",
    "    start = time.time()\n",
    "    model.fit(X_train, y_train)\n",
    "    pred = model.predict(X_test)\n",
    "    end = time.time()\n",
    "    print(\"\\n Undersampled Data\\n\",accuracy_score(y_test,pred))\n",
    "    print(classification_report(y_test,pred))\n",
    "    print(confusion_matrix(y_test,pred))\n",
    "    cm = confusion_matrix(y_test, pred, labels=model.classes_)\n",
    "    disp = ConfusionMatrixDisplay(confusion_matrix=cm,display_labels=model.classes_)\n",
    "    disp.plot()\n",
    "    plt.show()\n",
    "    probs = model.predict_proba(X_test)\n",
    "    preds = probs[:,1]\n",
    "    fpr,tpr,threshold = metrics.roc_curve(y_test,preds)\n",
    "    roc_auc = metrics.auc(fpr,tpr)\n",
    "    print('ROC AUC=%.3f' % (roc_auc))\n",
    "    print(\"\\nTime Taken :\"+ str(end - start) +\" seconds\")\n",
    "    \n",
    "    X_train, X_test, y_train, y_test = train_test_split(X_combined_sampling, y_combined_sampling, test_size=0.33, random_state=42)\n",
    "    start = time.time()\n",
    "    model.fit(X_train, y_train)\n",
    "    pred = model.predict(X_test)\n",
    "    end = time.time()\n",
    "    print(\"\\n Combined Sampling Data\\n\",accuracy_score(y_test,pred))\n",
    "    print(classification_report(y_test,pred))\n",
    "    print(confusion_matrix(y_test,pred))\n",
    "    cm = confusion_matrix(y_test, pred, labels=model.classes_)\n",
    "    disp = ConfusionMatrixDisplay(confusion_matrix=cm,display_labels=model.classes_)\n",
    "    disp.plot()\n",
    "    plt.show()\n",
    "    probs = model.predict_proba(X_test)\n",
    "    preds = probs[:,1]\n",
    "    fpr,tpr,threshold = metrics.roc_curve(y_test,preds)\n",
    "    roc_auc = metrics.auc(fpr,tpr)\n",
    "    print('ROC AUC=%.3f' % (roc_auc))\n",
    "    print(\"\\nTime Taken :\"+ str(end - start) +\" seconds\")\n",
    "    \n",
    "    X_train, X_test, y_train, y_test = train_test_split(X_sm, y_sm, test_size=0.33, random_state=42)\n",
    "    start = time.time()\n",
    "    model.fit(X_train, y_train)\n",
    "    pred = model.predict(X_test)\n",
    "    end = time.time()\n",
    "    print(\"\\n SMOTE Data\\n\",accuracy_score(y_test,pred))\n",
    "    print(classification_report(y_test,pred))\n",
    "    print(confusion_matrix(y_test,pred))\n",
    "    cm = confusion_matrix(y_test, pred, labels=model.classes_)\n",
    "    disp = ConfusionMatrixDisplay(confusion_matrix=cm,display_labels=model.classes_)\n",
    "    disp.plot()\n",
    "    plt.show()\n",
    "    probs = model.predict_proba(X_test)\n",
    "    preds = probs[:,1]\n",
    "    fpr,tpr,threshold = metrics.roc_curve(y_test,preds)\n",
    "    roc_auc = metrics.auc(fpr,tpr)\n",
    "    print('ROC AUC=%.3f' % (roc_auc))\n",
    "    print(\"\\nTime Taken :\"+ str(end - start) +\" seconds\")\n",
    "    \n",
    "    X_train, X_test, y_train, y_test = train_test_split(X_smk, y_smk, test_size=0.33, random_state=42)\n",
    "    start = time.time()\n",
    "    model.fit(X_train, y_train)\n",
    "    pred = model.predict(X_test)\n",
    "    end = time.time()\n",
    "    print(\"\\n SMOTETomek Data\\n\",accuracy_score(y_test,pred))\n",
    "    print(classification_report(y_test,pred))\n",
    "    print(confusion_matrix(y_test,pred))\n",
    "    cm = confusion_matrix(y_test, pred, labels=model.classes_)\n",
    "    disp = ConfusionMatrixDisplay(confusion_matrix=cm,display_labels=model.classes_)\n",
    "    disp.plot()\n",
    "    plt.show()\n",
    "    probs = model.predict_proba(X_test)\n",
    "    preds = probs[:,1]\n",
    "    fpr,tpr,threshold = metrics.roc_curve(y_test,preds)\n",
    "    roc_auc = metrics.auc(fpr,tpr)\n",
    "    print('ROC AUC=%.3f' % (roc_auc))\n",
    "    print(\"\\nTime Taken :\"+ str(end - start) +\" seconds\")"
   ]
  },
  {
   "cell_type": "code",
   "execution_count": 89,
   "id": "c5567583",
   "metadata": {
    "scrolled": false
   },
   "outputs": [
    {
     "name": "stdout",
     "output_type": "stream",
     "text": [
      "\n",
      " Oversampled Data\n",
      " 0.881627386238567\n",
      "              precision    recall  f1-score   support\n",
      "\n",
      "           0       0.92      0.84      0.88     13163\n",
      "           1       0.85      0.93      0.89     13186\n",
      "\n",
      "    accuracy                           0.88     26349\n",
      "   macro avg       0.88      0.88      0.88     26349\n",
      "weighted avg       0.88      0.88      0.88     26349\n",
      "\n",
      "[[10997  2166]\n",
      " [  953 12233]]\n"
     ]
    },
    {
     "data": {
      "image/png": "[encoded data removed]",
      "text/plain": [
       "<Figure size 360x360 with 2 Axes>"
      ]
     },
     "metadata": {
      "needs_background": "light"
     },
     "output_type": "display_data"
    },
    {
     "name": "stdout",
     "output_type": "stream",
     "text": [
      "ROC AUC=0.940\n",
      "\n",
      "Time Taken :46.4271514415741 seconds\n",
      "\n",
      " Undersampled Data\n",
      " 0.7625322257232885\n",
      "              precision    recall  f1-score   support\n",
      "\n",
      "           0       0.74      0.83      0.78      1783\n",
      "           1       0.80      0.69      0.74      1708\n",
      "\n",
      "    accuracy                           0.76      3491\n",
      "   macro avg       0.77      0.76      0.76      3491\n",
      "weighted avg       0.77      0.76      0.76      3491\n",
      "\n",
      "[[1479  304]\n",
      " [ 525 1183]]\n"
     ]
    },
    {
     "data": {
      "image/png": "[encoded data removed]",
      "text/plain": [
       "<Figure size 360x360 with 2 Axes>"
      ]
     },
     "metadata": {
      "needs_background": "light"
     },
     "output_type": "display_data"
    },
    {
     "name": "stdout",
     "output_type": "stream",
     "text": [
      "ROC AUC=0.845\n",
      "\n",
      "Time Taken :1.1575138568878174 seconds\n",
      "\n",
      " Combined Sampling Data\n",
      " 0.8595955056179775\n",
      "              precision    recall  f1-score   support\n",
      "\n",
      "           0       0.88      0.84      0.86     11687\n",
      "           1       0.84      0.88      0.86     10563\n",
      "\n",
      "    accuracy                           0.86     22250\n",
      "   macro avg       0.86      0.86      0.86     22250\n",
      "weighted avg       0.86      0.86      0.86     22250\n",
      "\n",
      "[[9860 1827]\n",
      " [1297 9266]]\n"
     ]
    },
    {
     "data": {
      "image/png": "[encoded data removed]",
      "text/plain": [
       "<Figure size 360x360 with 2 Axes>"
      ]
     },
     "metadata": {
      "needs_background": "light"
     },
     "output_type": "display_data"
    },
    {
     "name": "stdout",
     "output_type": "stream",
     "text": [
      "ROC AUC=0.932\n",
      "\n",
      "Time Taken :30.012269735336304 seconds\n",
      "\n",
      " SMOTE Data\n",
      " 0.9028805647273141\n",
      "              precision    recall  f1-score   support\n",
      "\n",
      "           0       0.96      0.84      0.90     13163\n",
      "           1       0.86      0.96      0.91     13186\n",
      "\n",
      "    accuracy                           0.90     26349\n",
      "   macro avg       0.91      0.90      0.90     26349\n",
      "weighted avg       0.91      0.90      0.90     26349\n",
      "\n",
      "[[11114  2049]\n",
      " [  510 12676]]\n"
     ]
    },
    {
     "data": {
      "image/png": "[encoded data removed]",
      "text/plain": [
       "<Figure size 360x360 with 2 Axes>"
      ]
     },
     "metadata": {
      "needs_background": "light"
     },
     "output_type": "display_data"
    },
    {
     "name": "stdout",
     "output_type": "stream",
     "text": [
      "ROC AUC=0.956\n",
      "\n",
      "Time Taken :46.37075066566467 seconds\n",
      "\n",
      " SMOTETomek Data\n",
      " 0.9035993144163017\n",
      "              precision    recall  f1-score   support\n",
      "\n",
      "           0       0.96      0.85      0.90     13148\n",
      "           1       0.86      0.96      0.91     13107\n",
      "\n",
      "    accuracy                           0.90     26255\n",
      "   macro avg       0.91      0.90      0.90     26255\n",
      "weighted avg       0.91      0.90      0.90     26255\n",
      "\n",
      "[[11123  2025]\n",
      " [  506 12601]]\n"
     ]
    },
    {
     "data": {
      "image/png": "[encoded data removed]",
      "text/plain": [
       "<Figure size 360x360 with 2 Axes>"
      ]
     },
     "metadata": {
      "needs_background": "light"
     },
     "output_type": "display_data"
    },
    {
     "name": "stdout",
     "output_type": "stream",
     "text": [
      "ROC AUC=0.956\n",
      "\n",
      "Time Taken :46.349604845047 seconds\n"
     ]
    }
   ],
   "source": [
    "from sklearn.neighbors import KNeighborsClassifier\n",
    "\n",
    "#Create KNN Classifier\n",
    "knn = KNeighborsClassifier(n_neighbors = 6, metric = 'minkowski', p = 2)\n",
    "\n",
    "result(knn)"
   ]
  },
  {
   "cell_type": "code",
   "execution_count": 42,
   "id": "fe49cfb0",
   "metadata": {
    "scrolled": false
   },
   "outputs": [
    {
     "name": "stdout",
     "output_type": "stream",
     "text": [
      "\n",
      " Oversampled Data\n",
      " 0.8087593457057194\n",
      "              precision    recall  f1-score   support\n",
      "\n",
      "           0       0.79      0.84      0.81     13163\n",
      "           1       0.83      0.78      0.80     13186\n",
      "\n",
      "    accuracy                           0.81     26349\n",
      "   macro avg       0.81      0.81      0.81     26349\n",
      "weighted avg       0.81      0.81      0.81     26349\n",
      "\n",
      "[[10996  2167]\n",
      " [ 2872 10314]]\n"
     ]
    },
    {
     "data": {
      "image/png": "[encoded data removed]",
      "text/plain": [
       "<Figure size 360x360 with 2 Axes>"
      ]
     },
     "metadata": {
      "needs_background": "light"
     },
     "output_type": "display_data"
    },
    {
     "name": "stdout",
     "output_type": "stream",
     "text": [
      "ROC AUC=0.889\n",
      "\n",
      "Time Taken :0.07303690910339355 seconds\n",
      "\n",
      " Undersampled Data\n",
      " 0.806932111142939\n",
      "              precision    recall  f1-score   support\n",
      "\n",
      "           0       0.79      0.84      0.82      1783\n",
      "           1       0.82      0.77      0.80      1708\n",
      "\n",
      "    accuracy                           0.81      3491\n",
      "   macro avg       0.81      0.81      0.81      3491\n",
      "weighted avg       0.81      0.81      0.81      3491\n",
      "\n",
      "[[1504  279]\n",
      " [ 395 1313]]\n"
     ]
    },
    {
     "data": {
      "image/png": "[encoded data removed]",
      "text/plain": [
       "<Figure size 360x360 with 2 Axes>"
      ]
     },
     "metadata": {
      "needs_background": "light"
     },
     "output_type": "display_data"
    },
    {
     "name": "stdout",
     "output_type": "stream",
     "text": [
      "ROC AUC=0.893\n",
      "\n",
      "Time Taken :0.009992122650146484 seconds\n",
      "\n",
      " Combined Sampling Data\n",
      " 0.8086292134831461\n",
      "              precision    recall  f1-score   support\n",
      "\n",
      "           0       0.80      0.85      0.82     11687\n",
      "           1       0.82      0.76      0.79     10563\n",
      "\n",
      "    accuracy                           0.81     22250\n",
      "   macro avg       0.81      0.81      0.81     22250\n",
      "weighted avg       0.81      0.81      0.81     22250\n",
      "\n",
      "[[9935 1752]\n",
      " [2506 8057]]\n"
     ]
    },
    {
     "data": {
      "image/png": "[encoded data removed]",
      "text/plain": [
       "<Figure size 360x360 with 2 Axes>"
      ]
     },
     "metadata": {
      "needs_background": "light"
     },
     "output_type": "display_data"
    },
    {
     "name": "stdout",
     "output_type": "stream",
     "text": [
      "ROC AUC=0.890\n",
      "\n",
      "Time Taken :0.06201052665710449 seconds\n",
      "\n",
      " SMOTE Data\n",
      " 0.8120232266879198\n",
      "              precision    recall  f1-score   support\n",
      "\n",
      "           0       0.80      0.83      0.82     13163\n",
      "           1       0.83      0.79      0.81     13186\n",
      "\n",
      "    accuracy                           0.81     26349\n",
      "   macro avg       0.81      0.81      0.81     26349\n",
      "weighted avg       0.81      0.81      0.81     26349\n",
      "\n",
      "[[10964  2199]\n",
      " [ 2754 10432]]\n"
     ]
    },
    {
     "data": {
      "image/png": "[encoded data removed]",
      "text/plain": [
       "<Figure size 360x360 with 2 Axes>"
      ]
     },
     "metadata": {
      "needs_background": "light"
     },
     "output_type": "display_data"
    },
    {
     "name": "stdout",
     "output_type": "stream",
     "text": [
      "ROC AUC=0.894\n",
      "\n",
      "Time Taken :0.07803726196289062 seconds\n",
      "\n",
      " SMOTETomek Data\n",
      " 0.8161112169110646\n",
      "              precision    recall  f1-score   support\n",
      "\n",
      "           0       0.80      0.84      0.82     13148\n",
      "           1       0.83      0.80      0.81     13107\n",
      "\n",
      "    accuracy                           0.82     26255\n",
      "   macro avg       0.82      0.82      0.82     26255\n",
      "weighted avg       0.82      0.82      0.82     26255\n",
      "\n",
      "[[11000  2148]\n",
      " [ 2680 10427]]\n"
     ]
    },
    {
     "data": {
      "image/png": "[encoded data removed]",
      "text/plain": [
       "<Figure size 360x360 with 2 Axes>"
      ]
     },
     "metadata": {
      "needs_background": "light"
     },
     "output_type": "display_data"
    },
    {
     "name": "stdout",
     "output_type": "stream",
     "text": [
      "ROC AUC=0.897\n",
      "\n",
      "Time Taken :0.075042724609375 seconds\n"
     ]
    }
   ],
   "source": [
    "from sklearn.linear_model import LogisticRegression\n",
    "log = LogisticRegression(random_state = 0)\n",
    "result(log)"
   ]
  },
  {
   "cell_type": "code",
   "execution_count": 43,
   "id": "eb57d9d4",
   "metadata": {
    "scrolled": false
   },
   "outputs": [
    {
     "name": "stdout",
     "output_type": "stream",
     "text": [
      "\n",
      " Oversampled Data\n",
      " 0.7002542790997761\n",
      "              precision    recall  f1-score   support\n",
      "\n",
      "           0       0.66      0.82      0.73     13163\n",
      "           1       0.77      0.58      0.66     13186\n",
      "\n",
      "    accuracy                           0.70     26349\n",
      "   macro avg       0.71      0.70      0.70     26349\n",
      "weighted avg       0.71      0.70      0.70     26349\n",
      "\n",
      "[[10827  2336]\n",
      " [ 5562  7624]]\n"
     ]
    },
    {
     "data": {
      "image/png": "[encoded data removed]",
      "text/plain": [
       "<Figure size 360x360 with 2 Axes>"
      ]
     },
     "metadata": {
      "needs_background": "light"
     },
     "output_type": "display_data"
    },
    {
     "name": "stdout",
     "output_type": "stream",
     "text": [
      "ROC AUC=0.806\n",
      "\n",
      "Time Taken :0.03800821304321289 seconds\n",
      "\n",
      " Undersampled Data\n",
      " 0.6877685476940705\n",
      "              precision    recall  f1-score   support\n",
      "\n",
      "           0       0.66      0.82      0.73      1783\n",
      "           1       0.74      0.55      0.63      1708\n",
      "\n",
      "    accuracy                           0.69      3491\n",
      "   macro avg       0.70      0.68      0.68      3491\n",
      "weighted avg       0.70      0.69      0.68      3491\n",
      "\n",
      "[[1460  323]\n",
      " [ 767  941]]\n"
     ]
    },
    {
     "data": {
      "image/png": "[encoded data removed]",
      "text/plain": [
       "<Figure size 360x360 with 2 Axes>"
      ]
     },
     "metadata": {
      "needs_background": "light"
     },
     "output_type": "display_data"
    },
    {
     "name": "stdout",
     "output_type": "stream",
     "text": [
      "ROC AUC=0.795\n",
      "\n",
      "Time Taken :0.004003286361694336 seconds\n",
      "\n",
      " Combined Sampling Data\n",
      " 0.7070561797752809\n",
      "              precision    recall  f1-score   support\n",
      "\n",
      "           0       0.68      0.84      0.75     11687\n",
      "           1       0.76      0.56      0.65     10563\n",
      "\n",
      "    accuracy                           0.71     22250\n",
      "   macro avg       0.72      0.70      0.70     22250\n",
      "weighted avg       0.72      0.71      0.70     22250\n",
      "\n",
      "[[9797 1890]\n",
      " [4628 5935]]\n"
     ]
    },
    {
     "data": {
      "image/png": "[encoded data removed]",
      "text/plain": [
       "<Figure size 360x360 with 2 Axes>"
      ]
     },
     "metadata": {
      "needs_background": "light"
     },
     "output_type": "display_data"
    },
    {
     "name": "stdout",
     "output_type": "stream",
     "text": [
      "ROC AUC=0.811\n",
      "\n",
      "Time Taken :0.03200864791870117 seconds\n",
      "\n",
      " SMOTE Data\n",
      " 0.6972940149531291\n",
      "              precision    recall  f1-score   support\n",
      "\n",
      "           0       0.66      0.83      0.73     13163\n",
      "           1       0.77      0.57      0.65     13186\n",
      "\n",
      "    accuracy                           0.70     26349\n",
      "   macro avg       0.71      0.70      0.69     26349\n",
      "weighted avg       0.71      0.70      0.69     26349\n",
      "\n",
      "[[10864  2299]\n",
      " [ 5677  7509]]\n"
     ]
    },
    {
     "data": {
      "image/png": "[encoded data removed]",
      "text/plain": [
       "<Figure size 360x360 with 2 Axes>"
      ]
     },
     "metadata": {
      "needs_background": "light"
     },
     "output_type": "display_data"
    },
    {
     "name": "stdout",
     "output_type": "stream",
     "text": [
      "ROC AUC=0.809\n",
      "\n",
      "Time Taken :0.036009788513183594 seconds\n",
      "\n",
      " SMOTETomek Data\n",
      " 0.7068748809750524\n",
      "              precision    recall  f1-score   support\n",
      "\n",
      "           0       0.66      0.84      0.74     13148\n",
      "           1       0.78      0.57      0.66     13107\n",
      "\n",
      "    accuracy                           0.71     26255\n",
      "   macro avg       0.72      0.71      0.70     26255\n",
      "weighted avg       0.72      0.71      0.70     26255\n",
      "\n",
      "[[11031  2117]\n",
      " [ 5579  7528]]\n"
     ]
    },
    {
     "data": {
      "image/png": "[encoded data removed]",
      "text/plain": [
       "<Figure size 360x360 with 2 Axes>"
      ]
     },
     "metadata": {
      "needs_background": "light"
     },
     "output_type": "display_data"
    },
    {
     "name": "stdout",
     "output_type": "stream",
     "text": [
      "ROC AUC=0.819\n",
      "\n",
      "Time Taken :0.03701019287109375 seconds\n"
     ]
    }
   ],
   "source": [
    "from sklearn.naive_bayes import GaussianNB\n",
    "nb = GaussianNB()\n",
    "result(nb)"
   ]
  },
  {
   "cell_type": "code",
   "execution_count": 44,
   "id": "af693083",
   "metadata": {
    "scrolled": false
   },
   "outputs": [
    {
     "name": "stdout",
     "output_type": "stream",
     "text": [
      "\n",
      " Oversampled Data\n",
      " 0.9672473338646628\n",
      "              precision    recall  f1-score   support\n",
      "\n",
      "           0       1.00      0.94      0.97     13163\n",
      "           1       0.94      1.00      0.97     13186\n",
      "\n",
      "    accuracy                           0.97     26349\n",
      "   macro avg       0.97      0.97      0.97     26349\n",
      "weighted avg       0.97      0.97      0.97     26349\n",
      "\n",
      "[[12329   834]\n",
      " [   29 13157]]\n"
     ]
    },
    {
     "data": {
      "image/png": "[encoded data removed]",
      "text/plain": [
       "<Figure size 360x360 with 2 Axes>"
      ]
     },
     "metadata": {
      "needs_background": "light"
     },
     "output_type": "display_data"
    },
    {
     "name": "stdout",
     "output_type": "stream",
     "text": [
      "ROC AUC=0.999\n",
      "\n",
      "Time Taken :23.34245538711548 seconds\n",
      "\n",
      " Undersampled Data\n",
      " 0.8135204812374678\n",
      "              precision    recall  f1-score   support\n",
      "\n",
      "           0       0.82      0.82      0.82      1783\n",
      "           1       0.81      0.81      0.81      1708\n",
      "\n",
      "    accuracy                           0.81      3491\n",
      "   macro avg       0.81      0.81      0.81      3491\n",
      "weighted avg       0.81      0.81      0.81      3491\n",
      "\n",
      "[[1463  320]\n",
      " [ 331 1377]]\n"
     ]
    },
    {
     "data": {
      "image/png": "[encoded data removed]",
      "text/plain": [
       "<Figure size 360x360 with 2 Axes>"
      ]
     },
     "metadata": {
      "needs_background": "light"
     },
     "output_type": "display_data"
    },
    {
     "name": "stdout",
     "output_type": "stream",
     "text": [
      "ROC AUC=0.893\n",
      "\n",
      "Time Taken :2.617361068725586 seconds\n",
      "\n",
      " Combined Sampling Data\n",
      " 0.9624719101123596\n",
      "              precision    recall  f1-score   support\n",
      "\n",
      "           0       1.00      0.93      0.96     11687\n",
      "           1       0.93      0.99      0.96     10563\n",
      "\n",
      "    accuracy                           0.96     22250\n",
      "   macro avg       0.96      0.96      0.96     22250\n",
      "weighted avg       0.96      0.96      0.96     22250\n",
      "\n",
      "[[10905   782]\n",
      " [   53 10510]]\n"
     ]
    },
    {
     "data": {
      "image/png": "[encoded data removed]",
      "text/plain": [
       "<Figure size 360x360 with 2 Axes>"
      ]
     },
     "metadata": {
      "needs_background": "light"
     },
     "output_type": "display_data"
    },
    {
     "name": "stdout",
     "output_type": "stream",
     "text": [
      "ROC AUC=0.997\n",
      "\n",
      "Time Taken :20.123586416244507 seconds\n",
      "\n",
      " SMOTE Data\n",
      " 0.924247599529394\n",
      "              precision    recall  f1-score   support\n",
      "\n",
      "           0       0.95      0.89      0.92     13163\n",
      "           1       0.90      0.96      0.93     13186\n",
      "\n",
      "    accuracy                           0.92     26349\n",
      "   macro avg       0.93      0.92      0.92     26349\n",
      "weighted avg       0.93      0.92      0.92     26349\n",
      "\n",
      "[[11748  1415]\n",
      " [  581 12605]]\n"
     ]
    },
    {
     "data": {
      "image/png": "[encoded data removed]",
      "text/plain": [
       "<Figure size 360x360 with 2 Axes>"
      ]
     },
     "metadata": {
      "needs_background": "light"
     },
     "output_type": "display_data"
    },
    {
     "name": "stdout",
     "output_type": "stream",
     "text": [
      "ROC AUC=0.978\n",
      "\n",
      "Time Taken :28.74104952812195 seconds\n",
      "\n",
      " SMOTETomek Data\n",
      " 0.9280137116739668\n",
      "              precision    recall  f1-score   support\n",
      "\n",
      "           0       0.96      0.89      0.93     13148\n",
      "           1       0.90      0.96      0.93     13107\n",
      "\n",
      "    accuracy                           0.93     26255\n",
      "   macro avg       0.93      0.93      0.93     26255\n",
      "weighted avg       0.93      0.93      0.93     26255\n",
      "\n",
      "[[11766  1382]\n",
      " [  508 12599]]\n"
     ]
    },
    {
     "data": {
      "image/png": "[encoded data removed]",
      "text/plain": [
       "<Figure size 360x360 with 2 Axes>"
      ]
     },
     "metadata": {
      "needs_background": "light"
     },
     "output_type": "display_data"
    },
    {
     "name": "stdout",
     "output_type": "stream",
     "text": [
      "ROC AUC=0.979\n",
      "\n",
      "Time Taken :28.525774240493774 seconds\n"
     ]
    }
   ],
   "source": [
    "from sklearn.ensemble import RandomForestClassifier\n",
    "\n",
    "# Create the model with 100 trees\n",
    "rf = RandomForestClassifier(n_estimators=100, \n",
    "                               bootstrap = True,\n",
    "                               max_features = 'sqrt')\n",
    "\n",
    "result(rf)"
   ]
  }
 ],
 "metadata": {
  "kernelspec": {
   "display_name": "Python 3 (ipykernel)",
   "language": "python",
   "name": "python3"
  },
  "language_info": {
   "codemirror_mode": {
    "name": "ipython",
    "version": 3
   },
   "file_extension": ".py",
   "mimetype": "text/x-python",
   "name": "python",
   "nbconvert_exporter": "python",
   "pygments_lexer": "ipython3",
   "version": "3.8.12"
  }
 },
 "nbformat": 4,
 "nbformat_minor": 5
}
